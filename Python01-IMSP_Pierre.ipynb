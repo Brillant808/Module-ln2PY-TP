{
 "cells": [
  {
   "cell_type": "raw",
   "id": "404d4676",
   "metadata": {},
   "source": [
    "1 Summations and Products\n",
    "1. Compute the following expressions for a natural number n chosen by the user:"
   ]
  },
  {
   "cell_type": "code",
   "execution_count": 4,
   "id": "3010f16e",
   "metadata": {},
   "outputs": [
    {
     "name": "stdout",
     "output_type": "stream",
     "text": [
      "somme =  250\n",
      "produit =  562000363888803840000\n"
     ]
    }
   ],
   "source": [
    "#i\n",
    "#prenon n = 20\n",
    "n = 20\n",
    "somme = 0\n",
    "produit = 1\n",
    "for i in range(0,n):\n",
    "    somme+=i+3\n",
    "    produit*=(i+3)\n",
    "print(\"somme = \",somme)\n",
    "print(\"produit = \",produit)"
   ]
  },
  {
   "cell_type": "raw",
   "id": "d7fc630a",
   "metadata": {},
   "source": [
    "2. Write a program that reads the number of the day of the week (from 0 to 6). If it is a\n",
    "working day, then the program will write the name of the corresponding day. Otherwise,\n",
    "it will write the word \"Weekend\"."
   ]
  },
  {
   "cell_type": "code",
   "execution_count": 31,
   "id": "13ce7c51",
   "metadata": {},
   "outputs": [
    {
     "name": "stdout",
     "output_type": "stream",
     "text": [
      "Entrer la numéro d'un jour (Les jours sont numérotés de 0 à 6): 7\n",
      "Le numéro du jour est incorrect\n"
     ]
    }
   ],
   "source": [
    "numerojour = input(\"Entrer la numéro d'un jour (Les jours sont numérotés de 0 à 6): \")\n",
    "numerojour = int(numerojour)\n",
    "jour = ['Lundi','Mardi','Mercredi','Jeudi','Vendredi','Samedi','Dimanche']\n",
    "if(numerojour<0 or numerojour>6):\n",
    "    print(\"Le numéro du jour est incorrect\")\n",
    "else:\n",
    "    if(numerojour<=5):\n",
    "        print(jour[numerojour],\" est un jour ouvrable\")\n",
    "    else:\n",
    "        print(jour[numerojour],\" est un Week-end\")"
   ]
  },
  {
   "cell_type": "code",
   "execution_count": 27,
   "id": "2f3be53a",
   "metadata": {},
   "outputs": [
    {
     "name": "stdout",
     "output_type": "stream",
     "text": [
      "Entrer le numéro d'un mois(de 0 à 11): 12\n",
      "Le numéro du mois est incorrect\n"
     ]
    }
   ],
   "source": [
    "mois = ['Janvier','Février','Mars','Avril','Mai','Juin','Juillet','Août','Septembre','Octobre','Novembre','Décembre']\n",
    "numeromois = input(\"Entrer le numéro d'un mois(de 0 à 11): \")\n",
    "numeromois = int(numeromois)\n",
    "if(numeromois<0 or numeromois>11):\n",
    "    print(\"Le numéro du mois est incorrect\")\n",
    "else:\n",
    "    L = [0,2,4,6,7,9,11]\n",
    "    if(numeromois==1):\n",
    "        print(mois[numeromois],\" compte 28 jours\")\n",
    "    elif(numeromois in L):\n",
    "        print(mois[numeromois],\" compte 31 jours\")\n",
    "    else:\n",
    "        print(mois[numeromois],\" compte 30 jours\")"
   ]
  },
  {
   "cell_type": "raw",
   "id": "127b835d",
   "metadata": {},
   "source": [
    "4. Write two versions of python code that displays your name 3 times. One version with a\n",
    "\"for loop\" and another version with a \"while loop\"."
   ]
  },
  {
   "cell_type": "code",
   "execution_count": 36,
   "id": "ab32f530",
   "metadata": {},
   "outputs": [
    {
     "name": "stdout",
     "output_type": "stream",
     "text": [
      "Pierre\n",
      "Pierre\n",
      "Pierre\n",
      "========================================\n",
      "Pierre\n",
      "Pierre\n",
      "Pierre\n"
     ]
    }
   ],
   "source": [
    "prenom = \"Pierre\"\n",
    "for i in range(3):\n",
    "    print(prenom)\n",
    "print(\"========================================\")\n",
    "i=0\n",
    "while(i<3):\n",
    "    print(prenom)\n",
    "    i=i+1"
   ]
  },
  {
   "cell_type": "raw",
   "id": "09221300",
   "metadata": {},
   "source": [
    "5. Given two numbers a0 and a1, the Fibonacci sequence they generate is constructed from\n",
    "the recursion formula an+1 = an + an−1. Calculate the \u001c",
    "rst 15 terms of a Fibonacci\n",
    "sequence, asking the user the initial values."
   ]
  },
  {
   "cell_type": "code",
   "execution_count": 45,
   "id": "d7aa6214",
   "metadata": {},
   "outputs": [
    {
     "name": "stdout",
     "output_type": "stream",
     "text": [
      "Entrer la valeur de a0: 0\n",
      "Entrer la valeur de a1: 1\n",
      "Le  1 ème terme est  1\n",
      "Le  2 ème terme est  2\n",
      "Le  3 ème terme est  3\n",
      "Le  4 ème terme est  5\n",
      "Le  5 ème terme est  8\n",
      "Le  6 ème terme est  13\n",
      "Le  7 ème terme est  21\n",
      "Le  8 ème terme est  34\n",
      "Le  9 ème terme est  55\n",
      "Le  10 ème terme est  89\n",
      "Le  11 ème terme est  144\n",
      "Le  12 ème terme est  233\n",
      "Le  13 ème terme est  377\n",
      "Le  14 ème terme est  610\n",
      "Le  15 ème terme est  987\n"
     ]
    }
   ],
   "source": [
    "a0 = int(input(\"Entrer la valeur de a0: \"))\n",
    "a1 = int(input(\"Entrer la valeur de a1: \"))\n",
    "if(a0 == 0 and a1 == 0):\n",
    "    print(\"Tous les termes sont égaux à zéro\")\n",
    "else:\n",
    "    for i in range(16):\n",
    "        if(i%2==0):\n",
    "            a0 = a0 + a1 \n",
    "            print(\"Le \",i+1,\"ème terme est \",a0)\n",
    "        else :\n",
    "            a1 = a0 + a1\n",
    "            if(i!=15):\n",
    "                print(\"Le \",i+1,\"ème terme est \",a1)"
   ]
  },
  {
   "cell_type": "raw",
   "id": "80685d71",
   "metadata": {},
   "source": [
    "6. Compute the \u001c",
    "rst 30 terms of the sequence de\u001c",
    "ned by 2xn+2 − xn+1 − 6xn = 0 sequence,\n",
    "given any two initial values x0 and x1"
   ]
  },
  {
   "cell_type": "code",
   "execution_count": 49,
   "id": "d7e7e799",
   "metadata": {},
   "outputs": [
    {
     "name": "stdout",
     "output_type": "stream",
     "text": [
      "Entrer la valeur de x0: 0\n",
      "Entrer la valeur de x1: 1\n",
      "Le  1 ème terme est  0.5\n",
      "Le  2 ème terme est  2.0\n",
      "Le  3 ème terme est  2.5\n",
      "Le  4 ème terme est  8.5\n",
      "Le  5 ème terme est  11.75\n",
      "Le  6 ème terme est  39.5\n",
      "Le  7 ème terme est  55.0\n",
      "Le  8 ème terme est  184.75\n",
      "Le  9 ème terme est  257.375\n",
      "Le  10 ème terme est  864.5\n",
      "Le  11 ème terme est  1204.375\n",
      "Le  12 ème terme est  4045.375\n",
      "Le  13 ème terme est  5635.8125\n",
      "Le  14 ème terme est  18930.125\n",
      "Le  15 ème terme est  26372.5\n",
      "Le  16 ème terme est  88582.5625\n",
      "Le  17 ème terme est  123408.78125\n",
      "Le  18 ème terme est  414517.625\n",
      "Le  19 ème terme est  577485.15625\n",
      "Le  20 ème terme est  1939714.28125\n",
      "Le  21 ème terme est  2702312.609375\n",
      "Le  22 ème terme est  9076794.96875\n",
      "Le  23 ème terme est  12645335.3125\n",
      "Le  24 ème terme est  42474403.421875\n",
      "Le  25 ème terme est  59173207.6484375\n",
      "Le  26 ème terme est  198756824.65625\n",
      "Le  27 ème terme est  276898035.2734375\n",
      "Le  28 ème terme est  930072518.1484375\n",
      "Le  29 ème terme est  1295730364.8945312\n",
      "Le  30 ème terme est  4352227353.7578125\n",
      "Le  31 ème terme est  6063304771.5625\n"
     ]
    }
   ],
   "source": [
    "x0 = int(input(\"Entrer la valeur de x0: \"))\n",
    "x1 = int(input(\"Entrer la valeur de x1: \"))\n",
    "if(x0 == 0 and x1 == 0):\n",
    "    print(\"Tous les termes sont égaux à zéro\")\n",
    "else:\n",
    "    for i in range(31):\n",
    "        if(i%2==0):\n",
    "            x0 = 1/2*(6*x0 + x1)\n",
    "            print(\"Le \",i+1,\"ème terme est \",x0)\n",
    "        else :\n",
    "            x1 = 1/2*(6*x0 + x1)\n",
    "            if(i!=30):\n",
    "                print(\"Le \",i+1,\"ème terme est \",x1)"
   ]
  },
  {
   "cell_type": "raw",
   "id": "9ec30813",
   "metadata": {},
   "source": [
    "7. a) Write python code to determine whether or not a year is a leap year. Be sure you\n",
    "know what a leap year is."
   ]
  },
  {
   "cell_type": "code",
   "execution_count": 52,
   "id": "56aa60d9",
   "metadata": {},
   "outputs": [
    {
     "name": "stdout",
     "output_type": "stream",
     "text": [
      "Entrer une année: 2021\n",
      "2021  n'est pas bissextile\n"
     ]
    }
   ],
   "source": [
    "annee = int(input(\"Entrer une année: \"))\n",
    "if((annee-2002)%4==0):\n",
    "    print(annee,\" est bissextile\")\n",
    "else:\n",
    "    print(annee,\" n'est pas bissextile\")"
   ]
  },
  {
   "cell_type": "raw",
   "id": "4fa838e6",
   "metadata": {},
   "source": [
    "Write python code that computes the sum of the square of the \u001c",
    "rst n natural numbers.\n",
    "One version with a \"for loop\" and another version with a \"while loop\"."
   ]
  },
  {
   "cell_type": "code",
   "execution_count": 58,
   "id": "73a69f78",
   "metadata": {},
   "outputs": [
    {
     "name": "stdout",
     "output_type": "stream",
     "text": [
      "Entrer un entier4\n",
      "14\n",
      "=========================\n",
      "14\n"
     ]
    }
   ],
   "source": [
    "nombre = int(input(\"Entrer un entier\"))\n",
    "carre = 0\n",
    "for i in range(nombre):\n",
    "    carre += i**2\n",
    "print(carre)\n",
    "print(\"=========================\")\n",
    "i = 0\n",
    "carre = 0\n",
    "while(i<nombre):\n",
    "    carre += i**2\n",
    "    i=i+1\n",
    "print(carre)"
   ]
  },
  {
   "cell_type": "raw",
   "id": "f007e55e",
   "metadata": {},
   "source": [
    "Write python code that prints, for a natural number M, the smallest natural number\n",
    "n such that 1\n",
    "2 + 22 +· · ·+n\n",
    "2 ≥ M. One version with a \"for loop\" and another version\n",
    "with a \"while loop\""
   ]
  },
  {
   "cell_type": "code",
   "execution_count": null,
   "id": "c59db897",
   "metadata": {},
   "outputs": [
    {
     "name": "stdout",
     "output_type": "stream",
     "text": [
      "Entrer un entier0\n"
     ]
    }
   ],
   "source": [
    "M = int(input(\"Entrer un entier: \"))\n",
    "n=0\n",
    "while(1):\n",
    "    i=0\n",
    "    carree = 0\n",
    "    while(i<n):\n",
    "        carree += i**2\n",
    "        i+=1\n",
    "    if(carree<M):\n",
    "        i=0\n",
    "        carree = 0\n",
    "        while(i<n+1):\n",
    "            carree += i**2\n",
    "            i+=1\n",
    "        if(carree>M):\n",
    "            break\n",
    "        else:\n",
    "            n+=1\n",
    "print(n)\n",
    "print(\"============================\")"
   ]
  },
  {
   "cell_type": "code",
   "execution_count": null,
   "id": "33c3e662",
   "metadata": {},
   "outputs": [],
   "source": []
  }
 ],
 "metadata": {
  "kernelspec": {
   "display_name": "Python 3",
   "language": "python",
   "name": "python3"
  },
  "language_info": {
   "codemirror_mode": {
    "name": "ipython",
    "version": 3
   },
   "file_extension": ".py",
   "mimetype": "text/x-python",
   "name": "python",
   "nbconvert_exporter": "python",
   "pygments_lexer": "ipython3",
   "version": "3.8.5"
  }
 },
 "nbformat": 4,
 "nbformat_minor": 5
}
