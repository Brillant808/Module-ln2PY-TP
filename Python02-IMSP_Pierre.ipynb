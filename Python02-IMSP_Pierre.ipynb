{
 "cells": [
  {
   "cell_type": "raw",
   "id": "a937c76d",
   "metadata": {},
   "source": [
    " Write a python script that asks the user for the values of x and y and uses these inputs to\n",
    "compute the numerical value of the expression\n",
    "√\n",
    "x\n",
    "2+y\n",
    "1\n",
    "x + 2 sin y"
   ]
  },
  {
   "cell_type": "code",
   "execution_count": 12,
   "id": "d30e006a",
   "metadata": {},
   "outputs": [
    {
     "name": "stdout",
     "output_type": "stream",
     "text": [
      "Entrer la valeur de l'entier x20\n",
      "Entrer la valeur de l'entier y21\n",
      "11.906313619408063\n"
     ]
    }
   ],
   "source": [
    "from math import sqrt, sin\n",
    "\n",
    "x= float(input(\"Entrer la valeur de l'entier x\"))\n",
    "y= float(input(\"Entrer la valeur de l'entier y\"))\n",
    "n=x**2 + y\n",
    "if(n<0):\n",
    "    print(\"Impossible de trouver le résultats\")\n",
    "else:\n",
    "    result = sqrt(n)/(1/x+2*sin(y))\n",
    "    print(result)"
   ]
  },
  {
   "cell_type": "raw",
   "id": "4ff7158d",
   "metadata": {},
   "source": [
    "2. Write a function that given two integers b and n (n is positive), calculates b\n",
    "n without using\n",
    "python's power operator. Name this function ownpowerfn.py.\n",
    "PS: What if we do not specify that n has to be positive?"
   ]
  },
  {
   "cell_type": "code",
   "execution_count": 14,
   "id": "8aea018f",
   "metadata": {},
   "outputs": [
    {
     "data": {
      "text/plain": [
       "256"
      ]
     },
     "execution_count": 14,
     "metadata": {},
     "output_type": "execute_result"
    }
   ],
   "source": [
    "def ownpowerfn(b,n):\n",
    "    result = 1\n",
    "    for i in range(n):\n",
    "        result*=b\n",
    "    return result\n",
    "ownpowerfn(4,4)\n",
    "#si n étais négatif, le resultat serait l'inverse du resultat actuel\n"
   ]
  },
  {
   "cell_type": "raw",
   "id": "55b866d4",
   "metadata": {},
   "source": [
    "3. Write functions that do the following:\n",
    "a) Takes two arguments, and computes their arithmetic and geometric means. Name\n",
    "these functions arithmetic_mean and geometric_mean respectively.\n",
    "b) Converts degree Celsius to Fahrenheit and vice versa. Name these two functions\n",
    "celcius_to_fahrenheit and fahrenheit_to_celcius respectively.\n",
    "c) Converts angle in degrees to radians and vice versa. Name these two functions\n",
    "degrees_to_radians and radians_to_degrees respectively.\n",
    "d) Computes the circumference and the area of a circle given the radius"
   ]
  },
  {
   "cell_type": "code",
   "execution_count": 27,
   "id": "cac405da",
   "metadata": {},
   "outputs": [],
   "source": [
    "from math import sqrt\n",
    "\n",
    "def arithmetic_mean(a,b):\n",
    "    return (a+b)/n\n",
    "\n",
    "def ageometric_mean(a,b):\n",
    "    return sqrt(a*b)\n",
    "\n",
    "def celcius_to_fahrenheit(a):\n",
    "    return (a*9/5) + 32\n",
    "\n",
    "def fahrenheit_to_celcius(a):\n",
    "    return (a - 32)*5/9\n",
    "\n",
    "def degrés_to_radians(a):\n",
    "    return a*3.14/180\n",
    "\n",
    "def radians_to_degrees(a):\n",
    "    return a*180/3.14\n",
    "\n",
    "def circonférence(rayon):\n",
    "    return 2*rayon*3.14\n",
    "\n",
    "def aire(rayon):\n",
    "    return rayon*rayon*3.14"
   ]
  },
  {
   "cell_type": "raw",
   "id": "2f3adab8",
   "metadata": {},
   "source": [
    "4. Write functions that do the following:\n",
    "a) Given two numbers, compute their average and geometrical mean and prints them.\n",
    "Now write a program that performs this process 10 times, taking as input the means\n",
    "computed in the previous step. Name this function avggeom.\n",
    "1\n",
    "b) Write a function that computes the distance between two points in the plane. Use\n",
    "it in another program that computes the perimeter and the area of a triangle, given\n",
    "three points in the plane. Name this function distancefn."
   ]
  },
  {
   "cell_type": "code",
   "execution_count": 28,
   "id": "6c931764",
   "metadata": {},
   "outputs": [],
   "source": [
    "from math import sqrt\n",
    "def arrgeomoyenne(a,b):\n",
    "    print(\"La moyenne arrithmétique est \",(a+b)/2)\n",
    "    print(\"La moyenne géométrique est \",sqrt(a*b))\n"
   ]
  },
  {
   "cell_type": "code",
   "execution_count": null,
   "id": "3c2d3ec0",
   "metadata": {},
   "outputs": [],
   "source": [
    "from math import sqrt\n",
    "def distancefn(a,b):\n",
    "    return sqrt(a**2 + b**2)\n",
    "\n",
    "def perimetre(a,b,c):\n",
    "    return distancefn(a,b)+distancefn(b,c)+distancefn(c,a)\n",
    "\n"
   ]
  },
  {
   "cell_type": "raw",
   "id": "30afa306",
   "metadata": {},
   "source": [
    "5. Write a program that o\u001bers three options to the user:\n",
    "1.Evaluation of actorial\n",
    "2.Evaluation of a second degree equation\n",
    "3. Exit\n",
    "The user selects one of the options and then the program requests the data needed and\n",
    "calls the corresponding function to produce a result. The program then repeats the process\n",
    "until the user says he wants to exit. Name this function fact2nddeg."
   ]
  },
  {
   "cell_type": "code",
   "execution_count": 34,
   "id": "59ff94fc",
   "metadata": {},
   "outputs": [
    {
     "name": "stdout",
     "output_type": "stream",
     "text": [
      "1.Evaluation of actorial\n",
      " 2.Evaluation of a second degree equation\n",
      " 3. Exit2\n",
      "Entrer la valeur de a1\n",
      "Entrer la valeur de b2\n",
      "Entrer la valeur de c1\n",
      "L'équation admet une solution double qu'est  0.5\n"
     ]
    }
   ],
   "source": [
    "def fact(a):\n",
    "    if(a<0):\n",
    "        return 0\n",
    "    elif(a==1 or a==0):\n",
    "        return 1\n",
    "    else:\n",
    "        return a*fact(a-1)\n",
    "\n",
    "def equation(a,b,c):\n",
    "    if(a==0):\n",
    "        if(b==0):\n",
    "            print(\"L'équation n'admet pas de solution\")\n",
    "        else:\n",
    "            print(\"La solutiond de \",-c/b)\n",
    "    else:\n",
    "        delta=b**2-4*a*c\n",
    "        if(delta==0):\n",
    "            print(\"L'équation admet une solution double qu'est \",c/(2*a))\n",
    "        elif(delta>0):\n",
    "            x1 = (-b+sqrt(delta))/(2*a)\n",
    "            x2= (b+sqrt(delta))/(2*a)\n",
    "            print(\"Les solution de l'équation sont \",x1,\" et \",x2)\n",
    "        else:\n",
    "            x1 = (-b+sqrt(-delta))/(2*a)\n",
    "            x2= (b+sqrt(-delta))/(2*a)\n",
    "            print(\"Les solution de l'équation sont \",x1,\" et i\",x2)\n",
    "\n",
    "def act2nddeg():\n",
    "    n = int(input(\"1.Evaluation of actorial\\n 2.Evaluation of a second degree equation\\n 3. Exit\"))\n",
    "    if(n == 1):\n",
    "        nombre = int(input(\"ENTRER UN ENTIER: \"))\n",
    "        print(\"Le factoriel de \",nombre,\" est \",fact(nombre))\n",
    "    elif( n ==2):\n",
    "        a = float(input(\"Entrer la valeur de a\"))\n",
    "        b = float(input(\"Entrer la valeur de b\"))\n",
    "        c = float(input(\"Entrer la valeur de c\"))\n",
    "        equation(a,b,c)\n",
    "    else:\n",
    "        return\n",
    "        \n",
    "act2nddeg()"
   ]
  },
  {
   "cell_type": "raw",
   "id": "90f1a314",
   "metadata": {},
   "source": [
    "6. For a \u001c",
    "xed real number x and a natural number n, we can de\u001c",
    "ne recursively x\n",
    "n using the\n",
    "relations:\n",
    "x\n",
    "0 = 1 and x\n",
    "n+1 = x.xn\n",
    ".\n",
    "Write a function power(x,n) that implements the above recursion."
   ]
  },
  {
   "cell_type": "code",
   "execution_count": 35,
   "id": "eb3410dd",
   "metadata": {},
   "outputs": [
    {
     "data": {
      "text/plain": [
       "100"
      ]
     },
     "execution_count": 35,
     "metadata": {},
     "output_type": "execute_result"
    }
   ],
   "source": [
    "def power(x,n):\n",
    "    if(n==0):\n",
    "        return 1\n",
    "    else:\n",
    "        return x*power(x,n-1)\n",
    "power(10,2)"
   ]
  },
  {
   "cell_type": "raw",
   "id": "81b8265f",
   "metadata": {},
   "source": [
    "7. Write code that implements the Fibonacci sequence. Test your program at 100."
   ]
  },
  {
   "cell_type": "code",
   "execution_count": null,
   "id": "ee338a41",
   "metadata": {},
   "outputs": [],
   "source": [
    "def fibonacci(n):\n",
    "    if(n==0):\n",
    "        return 0\n",
    "    elif(n==1):\n",
    "        return 1\n",
    "    else:\n",
    "        return fibonacci(n-1)+fibonacci(n-2)\n",
    "fibonacci(100)"
   ]
  }
 ],
 "metadata": {
  "kernelspec": {
   "display_name": "Python 3",
   "language": "python",
   "name": "python3"
  },
  "language_info": {
   "codemirror_mode": {
    "name": "ipython",
    "version": 3
   },
   "file_extension": ".py",
   "mimetype": "text/x-python",
   "name": "python",
   "nbconvert_exporter": "python",
   "pygments_lexer": "ipython3",
   "version": "3.8.5"
  }
 },
 "nbformat": 4,
 "nbformat_minor": 5
}
