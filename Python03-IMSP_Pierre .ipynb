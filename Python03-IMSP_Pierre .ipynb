{
 "cells": [
  {
   "cell_type": "code",
   "execution_count": 170,
   "id": "2b127af5",
   "metadata": {},
   "outputs": [],
   "source": [
    "def liste(ch):\n",
    "    L = [x for x in ch]\n",
    "    return L"
   ]
  },
  {
   "cell_type": "code",
   "execution_count": 171,
   "id": "219208dd",
   "metadata": {},
   "outputs": [],
   "source": [
    "def chaine(L):\n",
    "    X = \"\"\n",
    "    for x in L:\n",
    "        X+=x\n",
    "    return X"
   ]
  },
  {
   "cell_type": "code",
   "execution_count": null,
   "id": "8ef27eec",
   "metadata": {},
   "outputs": [],
   "source": [
    "def man(L,ch1,ch2):\n",
    "    "
   ]
  },
  {
   "cell_type": "code",
   "execution_count": 122,
   "id": "7d3689e0",
   "metadata": {},
   "outputs": [],
   "source": [
    "def M(ch1,ch2):\n",
    "    L  = []\n",
    "    id = 0\n",
    "    if(ch1<ch2):\n",
    "        for x in ch1:\n",
    "            if(x<=ch2[0]):\n",
    "                L+=x\n",
    "                id+=1\n",
    "        for y in ch2:\n",
    "            L+=y\n",
    "        for i in range(id,len(ch1)):\n",
    "            L+=ch1[i]\n",
    "    else:\n",
    "        for x in ch2:\n",
    "            if(x<=ch1[0]):\n",
    "                L+=x\n",
    "                id+=1\n",
    "        for y in ch1:\n",
    "            L+=y\n",
    "        for i in range(id,len(ch2)):\n",
    "            L+=ch2[i]\n",
    "    return chaine(L)\n",
    "      "
   ]
  },
  {
   "cell_type": "code",
   "execution_count": 125,
   "id": "05a9472f",
   "metadata": {},
   "outputs": [],
   "source": [
    "def S(ch):\n",
    "    i=len(ch)\n",
    "    if(i==1):\n",
    "        return ch\n",
    "    else:\n",
    "        ch1=\"\"\n",
    "        ch2=\"\"\n",
    "        for n in range(i//2):\n",
    "            ch1+=ch[n]\n",
    "        for n in range(i//2,i):\n",
    "            ch2+=ch[n]\n",
    "        return M(S(ch1),S(ch2))"
   ]
  },
  {
   "cell_type": "code",
   "execution_count": 130,
   "id": "93ac7f11",
   "metadata": {},
   "outputs": [
    {
     "name": "stdout",
     "output_type": "stream",
     "text": [
      "Ecrire une phrase: azer\n",
      "a  est la première voyelle dans :  azer\n"
     ]
    }
   ],
   "source": [
    "def firstvoyel(ch):\n",
    "    L = ['a','A','e','E','i','I','o','O','u','U','y','y']\n",
    "    for x in ch:\n",
    "        if(x in L):\n",
    "            return x\n",
    "    return -1\n",
    "def sentence():\n",
    "    phrase = input(\"Ecrire une phrase: \")\n",
    "    if(firstvoyel(phrase)==-1):\n",
    "        print(phrase,\" ne possede aucune voyelle\")\n",
    "    else:\n",
    "        print(firstvoyel(phrase),\" est la première voyelle dans : \",phrase)"
   ]
  },
  {
   "cell_type": "code",
   "execution_count": 172,
   "id": "06dbcdcf",
   "metadata": {},
   "outputs": [],
   "source": [
    "def isVowel(c):\n",
    "    L = ['a','A','e','E','i','I','o','O','u','U','y','y']\n",
    "    if(c in L):\n",
    "        return True\n",
    "    return False"
   ]
  },
  {
   "cell_type": "code",
   "execution_count": 173,
   "id": "5aad17d6",
   "metadata": {},
   "outputs": [],
   "source": [
    "def remplacer(ch,c):\n",
    "    L = liste(ch)\n",
    "    for i in range(len(L)):\n",
    "        if(L[i]==c):\n",
    "            L[i]='z'\n",
    "    return chaine(L)"
   ]
  },
  {
   "cell_type": "code",
   "execution_count": 182,
   "id": "eb99de43",
   "metadata": {},
   "outputs": [],
   "source": [
    "def count(ch,c):\n",
    "    if(isVowel(ch[c])):\n",
    "        ch = remplacer(ch,ch[c])\n",
    "        c+=1\n",
    "        return 1 + count(ch,c)\n",
    "    else:\n",
    "        if(c==len(ch)-1):\n",
    "            return 0\n",
    "        else:\n",
    "            c+=1\n",
    "            return count(ch,c)\n",
    "    "
   ]
  },
  {
   "cell_type": "code",
   "execution_count": 185,
   "id": "656b4ced",
   "metadata": {},
   "outputs": [],
   "source": [
    "def sentencecount():\n",
    "    phrase = input(\"Ecrire une phrase: \")\n",
    "    return count(phrase,0)"
   ]
  },
  {
   "cell_type": "code",
   "execution_count": 188,
   "id": "c96c3420",
   "metadata": {},
   "outputs": [],
   "source": [
    "def toupper():\n",
    "    x= input(\"Entrer une lettre,un chiffre pour terminer: \")\n",
    "    if(len(x)!=1):\n",
    "        print(\"Vous avez entrer plus d'une lettre\")\n",
    "        toupper()\n",
    "    else:\n",
    "        if(x.isdigit()):\n",
    "            return\n",
    "        else:\n",
    "            print(x,\" en majuscule est\",x.upper())\n",
    "            toupper()\n"
   ]
  },
  {
   "cell_type": "code",
   "execution_count": null,
   "id": "ec235d8b",
   "metadata": {},
   "outputs": [],
   "source": [
    "def sentencecountall():\n",
    "    phrase = input(\"Ecrire une phrase: \")\n",
    "    return count(phrase.upper(),0)"
   ]
  },
  {
   "cell_type": "code",
   "execution_count": null,
   "id": "67969ccd",
   "metadata": {},
   "outputs": [],
   "source": [
    "def idex(ch,c):\n",
    "    if(c in ch):\n",
    "        for i in range(len(ch)):\n",
    "            if(ch[i]==c):\n",
    "                return i\n",
    "    else:\n",
    "        return -1"
   ]
  },
  {
   "cell_type": "code",
   "execution_count": null,
   "id": "965aca1b",
   "metadata": {},
   "outputs": [],
   "source": [
    "def timebc():\n",
    "    ch = input(\"Ecrire une phrase: \")\n",
    "    c = \"c\"\n",
    "    b = \"b\"\n",
    "    if(idex(ch,b)<idex(ch,c)):\n",
    "        print(\"b est venu en avant c\")\n",
    "    else:\n",
    "        print(\"c est venu en avant b\")\n",
    "    "
   ]
  },
  {
   "cell_type": "code",
   "execution_count": null,
   "id": "63941928",
   "metadata": {},
   "outputs": [],
   "source": [
    "def capital():\n",
    "    ch = input(\"Ecrire une phrase: \")\n",
    "    L = liste(ch)\n",
    "    L[0]=L[0].upper()\n",
    "    ch = chaine(L)\n",
    "    print(ch)\n"
   ]
  },
  {
   "cell_type": "code",
   "execution_count": null,
   "id": "6664e6e4",
   "metadata": {},
   "outputs": [],
   "source": [
    "def palindrome():\n",
    "    ch = input(\"Ecrire une phrase: \")\n",
    "    for i in range(len(ch)//2):\n",
    "        if(ch[i]!=ch[len(ch)-1-i]):\n",
    "            print(ch,\" n'est pas un palindrome\")\n",
    "            return \n",
    "    print(ch,\" est un palindrome\")"
   ]
  },
  {
   "cell_type": "code",
   "execution_count": null,
   "id": "66f3f6fd",
   "metadata": {},
   "outputs": [],
   "source": [
    "def score():\n",
    "    print(\"The lower possible score is 1,and The highest possible score is 10\")\n"
   ]
  },
  {
   "cell_type": "code",
   "execution_count": 189,
   "id": "5585b7f9",
   "metadata": {},
   "outputs": [
    {
     "name": "stdout",
     "output_type": "stream",
     "text": [
      "A judge can give a gymast 1 point.\n",
      "A judge can give a gymast  2  points.\n",
      "A judge can give a gymast  3  points.\n",
      "A judge can give a gymast  4  points.\n",
      "A judge can give a gymast  5  points.\n",
      "A judge can give a gymast  6  points.\n",
      "A judge can give a gymast  7  points.\n",
      "A judge can give a gymast  8  points.\n",
      "A judge can give a gymast  9  points.\n",
      "A judge can give a gymast  10  points.\n"
     ]
    }
   ],
   "source": [
    "def serie():\n",
    "    print(\"A judge can give a gymast 1 point.\")\n",
    "    for i in range(2,11):\n",
    "        print(\"A judge can give a gymast \",i,\" points.\")\n",
    "serie()"
   ]
  }
 ],
 "metadata": {
  "kernelspec": {
   "display_name": "Python 3",
   "language": "python",
   "name": "python3"
  },
  "language_info": {
   "codemirror_mode": {
    "name": "ipython",
    "version": 3
   },
   "file_extension": ".py",
   "mimetype": "text/x-python",
   "name": "python",
   "nbconvert_exporter": "python",
   "pygments_lexer": "ipython3",
   "version": "3.8.5"
  }
 },
 "nbformat": 4,
 "nbformat_minor": 5
}
