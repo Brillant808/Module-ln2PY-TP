{
 "cells": [
  {
   "cell_type": "raw",
   "id": "bc0ac328",
   "metadata": {},
   "source": [
    "1. Write a program that manages a list of products and their prices. You should be able to\n",
    "add a new product with its price to change the price of a product and to consult the price\n",
    "of a product."
   ]
  },
  {
   "cell_type": "code",
   "execution_count": null,
   "id": "23c10074",
   "metadata": {},
   "outputs": [],
   "source": [
    "def addproduit(L,produit,prix):\n",
    "    a = {produit:prix}\n",
    "    L.append(a)\n",
    "    return L\n",
    "def changeproduit(L,produit,prix):\n",
    "    for x in L:\n",
    "        if(produit in L):\n",
    "            x[produit] = prix\n",
    "    return L\n",
    "def consulprix(L,produit):\n",
    "    for x in L:\n",
    "        if(produit in x):\n",
    "            return x[produit]\n",
    "    return -1"
   ]
  },
  {
   "cell_type": "raw",
   "id": "0d3c9002",
   "metadata": {},
   "source": [
    "2. Write a program that manages a telephone list. It should allow you to:\n",
    "• add a new name and its telephone to the list\n",
    "• search for a telephone given the name of the owner\n",
    "• search for the name of the owner given the telephone number\n",
    "• print the complete list of telephones"
   ]
  },
  {
   "cell_type": "code",
   "execution_count": 29,
   "id": "e5fb497e",
   "metadata": {},
   "outputs": [
    {
     "data": {
      "text/plain": [
       "'b'"
      ]
     },
     "execution_count": 29,
     "metadata": {},
     "output_type": "execute_result"
    }
   ],
   "source": [
    "def addlist(L,name,num):\n",
    "    a = {name:num}\n",
    "    L.append(a)\n",
    "    return L\n",
    "\n",
    "def searchname(L,num):\n",
    "    for a in L:\n",
    "        if(a.values()==num):\n",
    "            return a.keys()\n",
    "    return -1\n",
    "def searchtele(L,name):\n",
    "    for x in L:\n",
    "        if(name in x):\n",
    "            return x[name]\n",
    "    return -1\n",
    "def printlist(L):\n",
    "    for x in L:\n",
    "        print(x)\n",
    "\n",
    "L = [{'PIERRE': 67527136}]\n",
    "L = addlist(L,\"maman\",12)\n",
    "a = searchname(L,67527136)\n",
    "a = {'a':'b'}\n",
    "a['a']"
   ]
  },
  {
   "cell_type": "raw",
   "id": "b4735d83",
   "metadata": {},
   "source": [
    "3. Write a program that maps a list of words into a list of integers representing the lengths\n",
    "of the corresponding words"
   ]
  },
  {
   "cell_type": "code",
   "execution_count": 3,
   "id": "7133a8a0",
   "metadata": {},
   "outputs": [
    {
     "data": {
      "text/plain": [
       "[3, 6, 1]"
      ]
     },
     "execution_count": 3,
     "metadata": {},
     "output_type": "execute_result"
    }
   ],
   "source": [
    "def liste(L):\n",
    "    li = []\n",
    "    for x in L:\n",
    "        li.append(len(x))\n",
    "    return li\n",
    "L = [\"aze\",\"azeery\",\"a\"]\n",
    "liste(L)"
   ]
  },
  {
   "cell_type": "raw",
   "id": "ad100773",
   "metadata": {},
   "source": [
    "4. Write a function find_longest_word() that takes a list of words and returns the length\n",
    "of the longest one."
   ]
  },
  {
   "cell_type": "code",
   "execution_count": 2,
   "id": "a5aa0e00",
   "metadata": {},
   "outputs": [
    {
     "data": {
      "text/plain": [
       "6"
      ]
     },
     "execution_count": 2,
     "metadata": {},
     "output_type": "execute_result"
    }
   ],
   "source": [
    "def find_longest_word(L):\n",
    "    max = 0\n",
    "    for x in L:\n",
    "        if(len(x)>max):\n",
    "            max = len(x)\n",
    "    return max\n",
    "L = [\"aze\",\"azeery\",\"a\"]\n",
    "find_longest_word(L)"
   ]
  },
  {
   "cell_type": "raw",
   "id": "908fff00",
   "metadata": {},
   "source": [
    "5. Represent a small bilingual lexicon as a Python dictionary in the following fashion\n",
    "{\"merry\":\"god\", \"christmas\":\"jul\", \"and\":\"och\", \"happy\":gott\", \"new\":\"nytt\", \"year\":\"ar\"}\n",
    "and use it to translate your Christmas cards from English into Swedish. That is, write\n",
    "a function translate() that takes a list of English words and returns a list of Swedish\n",
    "words."
   ]
  },
  {
   "cell_type": "code",
   "execution_count": null,
   "id": "91897bc6",
   "metadata": {},
   "outputs": [],
   "source": [
    "def translate(L,dic):\n",
    "    Li= []\n",
    "    for x in L:\n",
    "        Li.append(dic[x])\n",
    "    return Li\n",
    "dic = {\"merry\":\"god\", \"christmas\":\"jul\", \"and\":\"och\", \"happy\":gott\", \"new\":\"nytt\", \"year\":\"ar\"}\n"
   ]
  },
  {
   "cell_type": "raw",
   "id": "fbd86565",
   "metadata": {},
   "source": [
    "6. Write a function is_member() that takes a value (i.e. a number, string, etc) x and a list of\n",
    "values a, and returns True if x is a member of the list, False otherwise. (Note that this\n",
    "is exactly what the in operator does,but for the sake of the exercise you should pretend\n",
    "Python did not have this operator.)"
   ]
  },
  {
   "cell_type": "code",
   "execution_count": 4,
   "id": "91ffa34c",
   "metadata": {},
   "outputs": [
    {
     "data": {
      "text/plain": [
       "False"
      ]
     },
     "execution_count": 4,
     "metadata": {},
     "output_type": "execute_result"
    }
   ],
   "source": [
    "def is_member(x,L):\n",
    "    for y in L:\n",
    "        if(x==y):\n",
    "            return True\n",
    "    return False\n",
    "L = [1,2,3,4,5,6]\n",
    "is_member(8,L)"
   ]
  },
  {
   "cell_type": "raw",
   "id": "aff362fc",
   "metadata": {},
   "source": [
    "7. De\u001c",
    "ne a procedure histogram() that takes a list of integers and prints a histogram to the\n",
    "screen. For example, histogram([4, 9, 7]) should print the following:\n",
    "****\n",
    "*********\n",
    "*******"
   ]
  },
  {
   "cell_type": "code",
   "execution_count": 32,
   "id": "f1c37757",
   "metadata": {},
   "outputs": [
    {
     "name": "stdout",
     "output_type": "stream",
     "text": [
      "*\n",
      "**\n",
      "***\n",
      "****\n",
      "*****\n",
      "******\n",
      "*******\n",
      "********\n",
      "*********\n"
     ]
    }
   ],
   "source": [
    "def histogram(L):\n",
    "    for x in L:\n",
    "        for i in range(x):\n",
    "            print(\"*\",end=\"\")\n",
    "        print()\n",
    "\n",
    "L= [1,2,3,4,5,6,7,8,9]\n",
    "histogram(L)   "
   ]
  },
  {
   "cell_type": "raw",
   "id": "37de0584",
   "metadata": {},
   "source": [
    "8. We will review all about list and dictionaries. The aim of this exercise is to make a\n",
    "grade-book for teacher's students.\n",
    "Following the instructions below:\n",
    "• Create three dictionaries: Amour, Paix, and Foi.\n",
    "• Give each dictionary the keys \"name\", \"homework\", \"quizzes\", and \"tests\".Have the\n",
    "\"name\" key be the name of the student (that is, Amour's name should be \"Amour\")\n",
    "and the other keys should be an empty list.\n",
    "• Now copy this code:\n",
    "Amour = {\n",
    "\"name\": \"Amour\",\n",
    "\"homework\": [90.0,97.0,75.0,92.0],\n",
    "\"quizzes\": [88.0,40.0,94.0],\n",
    "\"tests\": [75.0,90.0]\n",
    "}\n",
    "Paix = {\n",
    "\"name\": \"Paix\",\n",
    "\"homework\": [100.0, 92.0, 98.0, 100.0],\n",
    "\"quizzes\": [82.0, 83.0, 91.0],\n",
    "\"tests\": [89.0, 97.0]\n",
    "}\n",
    "Foi = {\n",
    "\"name\": \"Foi\",\n",
    "\"homework\": [0.0, 87.0, 75.0, 22.0],\n",
    "\"quizzes\": [0.0, 75.0, 78.0],\n",
    "\"tests\": [100.0, 100.0]\n",
    "}\n",
    "• Below your code, create a list called students that contains Amour, Paix, and Foi.\n",
    "• For each student in your students list, print out that student's data, as follows:\n",
    "\u0015 print the student's name\n",
    "\u0015 print the student's homework\n",
    "\u0015 print the student's quizzes\n",
    "\u0015 print the student's tests\n",
    "• Write a function average that takes a list of numbers and returns the average.\n",
    "\u0015 De\u001c",
    "ne a function called average that has one argument, numbers.\n",
    "\u0015 Inside that function, call the built-in sum() function with the numbers list as a\n",
    "parameter. Store the result in a variable called total.\n",
    "2\n",
    "\u0015 Divide total by the length of the numbers list. Use the built-in len() function\n",
    "to calculate that.\n",
    "\u0015 Return that result.\n",
    "• Write a function called get_average that takes a student dictionary (like Amour,\n",
    "Paix, or Foi) as input and returns his/her weighted average.\n",
    "\u0015 De\u001c",
    "ne a function called get_average that takes one argument called student.\n",
    "\u0015 Make a variable homework that stores the average() of student[\"homework\"].\n",
    "\u0015 Repeat step 2 for \"quizzes\" and \"tests\".\n",
    "\u0015 Multiply the 3 averages by their weights and return the sum of those three.\n",
    "Homework is 10%, quizzes are 30% and tests are 60%.\n",
    "• De\u001c",
    "ne a new function called get_letter_grade that has one argument called score.\n",
    "Expect score to be a number.\n",
    "\u0015 Inside your function, test score using a chain of if: / elif: / else: statements, like\n",
    "so:\n",
    "If score is 90 or above: return \"A\"\n",
    "Else if score is 80 or above: return \"B\"\n",
    "Else if score is 70 or above: return \"C\"\n",
    "Else if score is 60 or above: return \"D\"\n",
    "Otherwise: return \"F\"\n",
    "\u0015 Finally, test your function. Call your get_letter_grade function with the result\n",
    "of get_average(Amour). Print the resulting letter grade.\n",
    "• De\u001c",
    "ne a function called get_class_average that has one argument, students. You\n",
    "can expect students to be a list containing your three students.\n",
    "\u0015 First, make an empty list called results.\n",
    "\u0015 For each student item in the class list, calculate get_average(student) and then\n",
    "call results.append() with that result.\n",
    "\u0015 Finally, return the result of calling average() with results.\n",
    "• Finally, print out the result of calling get_class_averagewith your students list.\n",
    "Your students should be [Amour, Paix, Foi].\n",
    "• Then, print the result of get_letter_grade for the class's average."
   ]
  },
  {
   "cell_type": "code",
   "execution_count": 34,
   "id": "5a93dc6b",
   "metadata": {},
   "outputs": [],
   "source": [
    "Amour = dict()\n",
    "Paix = dict()\n",
    "Foi = dict()\n",
    "Amour = {\n",
    "\"name\": \"Amour\",\n",
    "\"homework\": [90.0,97.0,75.0,92.0],\n",
    "\"quizzes\": [88.0,40.0,94.0],\n",
    "\"tests\": [75.0,90.0]\n",
    "}\n",
    "Paix = {\n",
    "\"name\": \"Paix\",\n",
    "\"homework\": [100.0, 92.0, 98.0, 100.0],\n",
    "\"quizzes\": [82.0, 83.0, 91.0],\n",
    "\"tests\": [89.0, 97.0]\n",
    "}\n",
    "Foi = {\n",
    "\"name\": \"Foi\",\n",
    "\"homework\": [0.0, 87.0, 75.0, 22.0],\n",
    "\"quizzes\": [0.0, 75.0, 78.0],\n",
    "\"tests\": [100.0, 100.0]\n",
    "}\n",
    "students = []\n",
    "students.append(Amour)\n",
    "students.append(Paix)\n",
    "students.append(Foi)\n"
   ]
  },
  {
   "cell_type": "code",
   "execution_count": null,
   "id": "f2e0ac74",
   "metadata": {},
   "outputs": [],
   "source": [
    "def studentprint()"
   ]
  }
 ],
 "metadata": {
  "kernelspec": {
   "display_name": "Python 3",
   "language": "python",
   "name": "python3"
  },
  "language_info": {
   "codemirror_mode": {
    "name": "ipython",
    "version": 3
   },
   "file_extension": ".py",
   "mimetype": "text/x-python",
   "name": "python",
   "nbconvert_exporter": "python",
   "pygments_lexer": "ipython3",
   "version": "3.8.5"
  }
 },
 "nbformat": 4,
 "nbformat_minor": 5
}
